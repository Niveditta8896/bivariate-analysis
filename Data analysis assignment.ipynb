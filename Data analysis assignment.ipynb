{
 "cells": [
  {
   "cell_type": "code",
   "execution_count": 18,
   "id": "9532bdfc",
   "metadata": {},
   "outputs": [],
   "source": [
    "import pandas as pd\n",
    "import numpy as np"
   ]
  },
  {
   "cell_type": "code",
   "execution_count": 19,
   "id": "66177d36",
   "metadata": {},
   "outputs": [],
   "source": [
    "dataset=pd.read_csv(\"Placement.csv\")"
   ]
  },
  {
   "cell_type": "markdown",
   "id": "d2d44472",
   "metadata": {},
   "source": [
    "# 1. replacement of nan values"
   ]
  },
  {
   "cell_type": "code",
   "execution_count": 22,
   "id": "8d084fb4",
   "metadata": {},
   "outputs": [
    {
     "data": {
      "text/plain": [
       "sl_no              0\n",
       "gender             0\n",
       "ssc_p              0\n",
       "ssc_b              0\n",
       "hsc_p              0\n",
       "hsc_b              0\n",
       "hsc_s              0\n",
       "degree_p           0\n",
       "degree_t           0\n",
       "workex             0\n",
       "etest_p            0\n",
       "specialisation     0\n",
       "mba_p              0\n",
       "status             0\n",
       "salary            67\n",
       "dtype: int64"
      ]
     },
     "execution_count": 22,
     "metadata": {},
     "output_type": "execute_result"
    }
   ],
   "source": [
    "dataset.isna().sum()"
   ]
  },
  {
   "cell_type": "code",
   "execution_count": 23,
   "id": "57751376",
   "metadata": {},
   "outputs": [],
   "source": [
    "dataset[\"salary\"].fillna(0,inplace=True)\n",
    "\n",
    "# we r only using dataset.fillna() here cos the nan values in salary are because the employees r not placed in the company,\n",
    "\n",
    "#if they were place and the we hv to find the value then we can use dataset[\"salary\"].fillna(dataset[\"salary\"].mean(),inplace=True)\n",
    "# for categorical data we use mode only if the employee or that category is related to the dataset."
   ]
  },
  {
   "cell_type": "code",
   "execution_count": 32,
   "id": "0e976187",
   "metadata": {},
   "outputs": [
    {
     "data": {
      "text/plain": [
       "sl_no             0\n",
       "gender            0\n",
       "ssc_p             0\n",
       "ssc_b             0\n",
       "hsc_p             0\n",
       "hsc_b             0\n",
       "hsc_s             0\n",
       "degree_p          0\n",
       "degree_t          0\n",
       "workex            0\n",
       "etest_p           0\n",
       "specialisation    0\n",
       "mba_p             0\n",
       "status            0\n",
       "salary            0\n",
       "dtype: int64"
      ]
     },
     "execution_count": 32,
     "metadata": {},
     "output_type": "execute_result"
    }
   ],
   "source": [
    "dataset.isna().sum()# this is to find the nan values or null values under a category or a column"
   ]
  },
  {
   "cell_type": "code",
   "execution_count": 33,
   "id": "7a647b9c",
   "metadata": {},
   "outputs": [
    {
     "data": {
      "text/html": [
       "<div>\n",
       "<style scoped>\n",
       "    .dataframe tbody tr th:only-of-type {\n",
       "        vertical-align: middle;\n",
       "    }\n",
       "\n",
       "    .dataframe tbody tr th {\n",
       "        vertical-align: top;\n",
       "    }\n",
       "\n",
       "    .dataframe thead th {\n",
       "        text-align: right;\n",
       "    }\n",
       "</style>\n",
       "<table border=\"1\" class=\"dataframe\">\n",
       "  <thead>\n",
       "    <tr style=\"text-align: right;\">\n",
       "      <th></th>\n",
       "      <th>sl_no</th>\n",
       "      <th>gender</th>\n",
       "      <th>ssc_p</th>\n",
       "      <th>ssc_b</th>\n",
       "      <th>hsc_p</th>\n",
       "      <th>hsc_b</th>\n",
       "      <th>hsc_s</th>\n",
       "      <th>degree_p</th>\n",
       "      <th>degree_t</th>\n",
       "      <th>workex</th>\n",
       "      <th>etest_p</th>\n",
       "      <th>specialisation</th>\n",
       "      <th>mba_p</th>\n",
       "      <th>status</th>\n",
       "      <th>salary</th>\n",
       "    </tr>\n",
       "  </thead>\n",
       "  <tbody>\n",
       "    <tr>\n",
       "      <th>0</th>\n",
       "      <td>1</td>\n",
       "      <td>M</td>\n",
       "      <td>67.00</td>\n",
       "      <td>Others</td>\n",
       "      <td>91.00</td>\n",
       "      <td>Others</td>\n",
       "      <td>Commerce</td>\n",
       "      <td>58.00</td>\n",
       "      <td>Sci&amp;Tech</td>\n",
       "      <td>No</td>\n",
       "      <td>55.0</td>\n",
       "      <td>Mkt&amp;HR</td>\n",
       "      <td>58.80</td>\n",
       "      <td>Placed</td>\n",
       "      <td>270000.0</td>\n",
       "    </tr>\n",
       "    <tr>\n",
       "      <th>1</th>\n",
       "      <td>2</td>\n",
       "      <td>M</td>\n",
       "      <td>79.33</td>\n",
       "      <td>Central</td>\n",
       "      <td>78.33</td>\n",
       "      <td>Others</td>\n",
       "      <td>Science</td>\n",
       "      <td>77.48</td>\n",
       "      <td>Sci&amp;Tech</td>\n",
       "      <td>Yes</td>\n",
       "      <td>86.5</td>\n",
       "      <td>Mkt&amp;Fin</td>\n",
       "      <td>66.28</td>\n",
       "      <td>Placed</td>\n",
       "      <td>200000.0</td>\n",
       "    </tr>\n",
       "    <tr>\n",
       "      <th>2</th>\n",
       "      <td>3</td>\n",
       "      <td>M</td>\n",
       "      <td>65.00</td>\n",
       "      <td>Central</td>\n",
       "      <td>68.00</td>\n",
       "      <td>Central</td>\n",
       "      <td>Arts</td>\n",
       "      <td>64.00</td>\n",
       "      <td>Comm&amp;Mgmt</td>\n",
       "      <td>No</td>\n",
       "      <td>75.0</td>\n",
       "      <td>Mkt&amp;Fin</td>\n",
       "      <td>57.80</td>\n",
       "      <td>Placed</td>\n",
       "      <td>250000.0</td>\n",
       "    </tr>\n",
       "    <tr>\n",
       "      <th>3</th>\n",
       "      <td>4</td>\n",
       "      <td>M</td>\n",
       "      <td>56.00</td>\n",
       "      <td>Central</td>\n",
       "      <td>52.00</td>\n",
       "      <td>Central</td>\n",
       "      <td>Science</td>\n",
       "      <td>52.00</td>\n",
       "      <td>Sci&amp;Tech</td>\n",
       "      <td>No</td>\n",
       "      <td>66.0</td>\n",
       "      <td>Mkt&amp;HR</td>\n",
       "      <td>59.43</td>\n",
       "      <td>Not Placed</td>\n",
       "      <td>0.0</td>\n",
       "    </tr>\n",
       "    <tr>\n",
       "      <th>4</th>\n",
       "      <td>5</td>\n",
       "      <td>M</td>\n",
       "      <td>85.80</td>\n",
       "      <td>Central</td>\n",
       "      <td>73.60</td>\n",
       "      <td>Central</td>\n",
       "      <td>Commerce</td>\n",
       "      <td>73.30</td>\n",
       "      <td>Comm&amp;Mgmt</td>\n",
       "      <td>No</td>\n",
       "      <td>96.8</td>\n",
       "      <td>Mkt&amp;Fin</td>\n",
       "      <td>55.50</td>\n",
       "      <td>Placed</td>\n",
       "      <td>425000.0</td>\n",
       "    </tr>\n",
       "    <tr>\n",
       "      <th>...</th>\n",
       "      <td>...</td>\n",
       "      <td>...</td>\n",
       "      <td>...</td>\n",
       "      <td>...</td>\n",
       "      <td>...</td>\n",
       "      <td>...</td>\n",
       "      <td>...</td>\n",
       "      <td>...</td>\n",
       "      <td>...</td>\n",
       "      <td>...</td>\n",
       "      <td>...</td>\n",
       "      <td>...</td>\n",
       "      <td>...</td>\n",
       "      <td>...</td>\n",
       "      <td>...</td>\n",
       "    </tr>\n",
       "    <tr>\n",
       "      <th>210</th>\n",
       "      <td>211</td>\n",
       "      <td>M</td>\n",
       "      <td>80.60</td>\n",
       "      <td>Others</td>\n",
       "      <td>82.00</td>\n",
       "      <td>Others</td>\n",
       "      <td>Commerce</td>\n",
       "      <td>77.60</td>\n",
       "      <td>Comm&amp;Mgmt</td>\n",
       "      <td>No</td>\n",
       "      <td>91.0</td>\n",
       "      <td>Mkt&amp;Fin</td>\n",
       "      <td>74.49</td>\n",
       "      <td>Placed</td>\n",
       "      <td>400000.0</td>\n",
       "    </tr>\n",
       "    <tr>\n",
       "      <th>211</th>\n",
       "      <td>212</td>\n",
       "      <td>M</td>\n",
       "      <td>58.00</td>\n",
       "      <td>Others</td>\n",
       "      <td>60.00</td>\n",
       "      <td>Others</td>\n",
       "      <td>Science</td>\n",
       "      <td>72.00</td>\n",
       "      <td>Sci&amp;Tech</td>\n",
       "      <td>No</td>\n",
       "      <td>74.0</td>\n",
       "      <td>Mkt&amp;Fin</td>\n",
       "      <td>53.62</td>\n",
       "      <td>Placed</td>\n",
       "      <td>275000.0</td>\n",
       "    </tr>\n",
       "    <tr>\n",
       "      <th>212</th>\n",
       "      <td>213</td>\n",
       "      <td>M</td>\n",
       "      <td>67.00</td>\n",
       "      <td>Others</td>\n",
       "      <td>67.00</td>\n",
       "      <td>Others</td>\n",
       "      <td>Commerce</td>\n",
       "      <td>73.00</td>\n",
       "      <td>Comm&amp;Mgmt</td>\n",
       "      <td>Yes</td>\n",
       "      <td>59.0</td>\n",
       "      <td>Mkt&amp;Fin</td>\n",
       "      <td>69.72</td>\n",
       "      <td>Placed</td>\n",
       "      <td>295000.0</td>\n",
       "    </tr>\n",
       "    <tr>\n",
       "      <th>213</th>\n",
       "      <td>214</td>\n",
       "      <td>F</td>\n",
       "      <td>74.00</td>\n",
       "      <td>Others</td>\n",
       "      <td>66.00</td>\n",
       "      <td>Others</td>\n",
       "      <td>Commerce</td>\n",
       "      <td>58.00</td>\n",
       "      <td>Comm&amp;Mgmt</td>\n",
       "      <td>No</td>\n",
       "      <td>70.0</td>\n",
       "      <td>Mkt&amp;HR</td>\n",
       "      <td>60.23</td>\n",
       "      <td>Placed</td>\n",
       "      <td>204000.0</td>\n",
       "    </tr>\n",
       "    <tr>\n",
       "      <th>214</th>\n",
       "      <td>215</td>\n",
       "      <td>M</td>\n",
       "      <td>62.00</td>\n",
       "      <td>Central</td>\n",
       "      <td>58.00</td>\n",
       "      <td>Others</td>\n",
       "      <td>Science</td>\n",
       "      <td>53.00</td>\n",
       "      <td>Comm&amp;Mgmt</td>\n",
       "      <td>No</td>\n",
       "      <td>89.0</td>\n",
       "      <td>Mkt&amp;HR</td>\n",
       "      <td>60.22</td>\n",
       "      <td>Not Placed</td>\n",
       "      <td>0.0</td>\n",
       "    </tr>\n",
       "  </tbody>\n",
       "</table>\n",
       "<p>215 rows × 15 columns</p>\n",
       "</div>"
      ],
      "text/plain": [
       "     sl_no gender  ssc_p    ssc_b  hsc_p    hsc_b     hsc_s  degree_p  \\\n",
       "0        1      M  67.00   Others  91.00   Others  Commerce     58.00   \n",
       "1        2      M  79.33  Central  78.33   Others   Science     77.48   \n",
       "2        3      M  65.00  Central  68.00  Central      Arts     64.00   \n",
       "3        4      M  56.00  Central  52.00  Central   Science     52.00   \n",
       "4        5      M  85.80  Central  73.60  Central  Commerce     73.30   \n",
       "..     ...    ...    ...      ...    ...      ...       ...       ...   \n",
       "210    211      M  80.60   Others  82.00   Others  Commerce     77.60   \n",
       "211    212      M  58.00   Others  60.00   Others   Science     72.00   \n",
       "212    213      M  67.00   Others  67.00   Others  Commerce     73.00   \n",
       "213    214      F  74.00   Others  66.00   Others  Commerce     58.00   \n",
       "214    215      M  62.00  Central  58.00   Others   Science     53.00   \n",
       "\n",
       "      degree_t workex  etest_p specialisation  mba_p      status    salary  \n",
       "0     Sci&Tech     No     55.0         Mkt&HR  58.80      Placed  270000.0  \n",
       "1     Sci&Tech    Yes     86.5        Mkt&Fin  66.28      Placed  200000.0  \n",
       "2    Comm&Mgmt     No     75.0        Mkt&Fin  57.80      Placed  250000.0  \n",
       "3     Sci&Tech     No     66.0         Mkt&HR  59.43  Not Placed       0.0  \n",
       "4    Comm&Mgmt     No     96.8        Mkt&Fin  55.50      Placed  425000.0  \n",
       "..         ...    ...      ...            ...    ...         ...       ...  \n",
       "210  Comm&Mgmt     No     91.0        Mkt&Fin  74.49      Placed  400000.0  \n",
       "211   Sci&Tech     No     74.0        Mkt&Fin  53.62      Placed  275000.0  \n",
       "212  Comm&Mgmt    Yes     59.0        Mkt&Fin  69.72      Placed  295000.0  \n",
       "213  Comm&Mgmt     No     70.0         Mkt&HR  60.23      Placed  204000.0  \n",
       "214  Comm&Mgmt     No     89.0         Mkt&HR  60.22  Not Placed       0.0  \n",
       "\n",
       "[215 rows x 15 columns]"
      ]
     },
     "execution_count": 33,
     "metadata": {},
     "output_type": "execute_result"
    }
   ],
   "source": [
    "dataset"
   ]
  },
  {
   "cell_type": "markdown",
   "id": "5fa0e8f1",
   "metadata": {},
   "source": [
    "# 2. How many of them are not placed?"
   ]
  },
  {
   "cell_type": "code",
   "execution_count": 39,
   "id": "3e1a8a68",
   "metadata": {},
   "outputs": [
    {
     "data": {
      "text/plain": [
       "Placed        148\n",
       "Not Placed     67\n",
       "Name: status, dtype: int64"
      ]
     },
     "execution_count": 39,
     "metadata": {},
     "output_type": "execute_result"
    }
   ],
   "source": [
    "# for this we know 67 ppl r not placed because their status is not placed and their salary is o.\n",
    "dataset[\"status\"].value_counts()\n",
    "#when we use any data[\"columnname\"].value_counts() we get how many unique features r there in that particular column and the \n",
    "#datatype."
   ]
  },
  {
   "cell_type": "markdown",
   "id": "f6034a7a",
   "metadata": {},
   "source": [
    "# 3. Find the reason for non placement from the dataset?"
   ]
  },
  {
   "cell_type": "code",
   "execution_count": 47,
   "id": "6676526e",
   "metadata": {},
   "outputs": [
    {
     "data": {
      "text/html": [
       "<div>\n",
       "<style scoped>\n",
       "    .dataframe tbody tr th:only-of-type {\n",
       "        vertical-align: middle;\n",
       "    }\n",
       "\n",
       "    .dataframe tbody tr th {\n",
       "        vertical-align: top;\n",
       "    }\n",
       "\n",
       "    .dataframe thead th {\n",
       "        text-align: right;\n",
       "    }\n",
       "</style>\n",
       "<table border=\"1\" class=\"dataframe\">\n",
       "  <thead>\n",
       "    <tr style=\"text-align: right;\">\n",
       "      <th></th>\n",
       "      <th>sl_no</th>\n",
       "      <th>ssc_p</th>\n",
       "      <th>hsc_p</th>\n",
       "      <th>degree_p</th>\n",
       "      <th>etest_p</th>\n",
       "      <th>mba_p</th>\n",
       "      <th>salary</th>\n",
       "    </tr>\n",
       "    <tr>\n",
       "      <th>status</th>\n",
       "      <th></th>\n",
       "      <th></th>\n",
       "      <th></th>\n",
       "      <th></th>\n",
       "      <th></th>\n",
       "      <th></th>\n",
       "      <th></th>\n",
       "    </tr>\n",
       "  </thead>\n",
       "  <tbody>\n",
       "    <tr>\n",
       "      <th>Not Placed</th>\n",
       "      <td>110.477612</td>\n",
       "      <td>57.544030</td>\n",
       "      <td>58.395522</td>\n",
       "      <td>61.134179</td>\n",
       "      <td>69.587910</td>\n",
       "      <td>61.612836</td>\n",
       "      <td>0.000000</td>\n",
       "    </tr>\n",
       "    <tr>\n",
       "      <th>Placed</th>\n",
       "      <td>106.878378</td>\n",
       "      <td>71.721486</td>\n",
       "      <td>69.926554</td>\n",
       "      <td>68.740541</td>\n",
       "      <td>73.238041</td>\n",
       "      <td>62.579392</td>\n",
       "      <td>288655.405405</td>\n",
       "    </tr>\n",
       "  </tbody>\n",
       "</table>\n",
       "</div>"
      ],
      "text/plain": [
       "                 sl_no      ssc_p      hsc_p   degree_p    etest_p      mba_p  \\\n",
       "status                                                                          \n",
       "Not Placed  110.477612  57.544030  58.395522  61.134179  69.587910  61.612836   \n",
       "Placed      106.878378  71.721486  69.926554  68.740541  73.238041  62.579392   \n",
       "\n",
       "                   salary  \n",
       "status                     \n",
       "Not Placed       0.000000  \n",
       "Placed      288655.405405  "
      ]
     },
     "execution_count": 47,
     "metadata": {},
     "output_type": "execute_result"
    }
   ],
   "source": [
    "dataset.groupby(\"status\").mean()\n",
    "\n",
    "# we r using groupby() function from pandas to group status to placed and notplaced and then to find mean whivh finds the mean \n",
    "#of only quantitative data.\n",
    "\n",
    "# from this we can see the not placed ppl scored lesss compared to placed ppl."
   ]
  },
  {
   "cell_type": "markdown",
   "id": "f660cb74",
   "metadata": {},
   "source": [
    "# 4.What kind of relation between salary and mba_p"
   ]
  },
  {
   "cell_type": "code",
   "execution_count": 48,
   "id": "d2e3a2a3",
   "metadata": {},
   "outputs": [
    {
     "data": {
      "text/html": [
       "<div>\n",
       "<style scoped>\n",
       "    .dataframe tbody tr th:only-of-type {\n",
       "        vertical-align: middle;\n",
       "    }\n",
       "\n",
       "    .dataframe tbody tr th {\n",
       "        vertical-align: top;\n",
       "    }\n",
       "\n",
       "    .dataframe thead th {\n",
       "        text-align: right;\n",
       "    }\n",
       "</style>\n",
       "<table border=\"1\" class=\"dataframe\">\n",
       "  <thead>\n",
       "    <tr style=\"text-align: right;\">\n",
       "      <th></th>\n",
       "      <th>salary</th>\n",
       "      <th>mba_p</th>\n",
       "    </tr>\n",
       "  </thead>\n",
       "  <tbody>\n",
       "    <tr>\n",
       "      <th>salary</th>\n",
       "      <td>1.000000</td>\n",
       "      <td>0.139823</td>\n",
       "    </tr>\n",
       "    <tr>\n",
       "      <th>mba_p</th>\n",
       "      <td>0.139823</td>\n",
       "      <td>1.000000</td>\n",
       "    </tr>\n",
       "  </tbody>\n",
       "</table>\n",
       "</div>"
      ],
      "text/plain": [
       "          salary     mba_p\n",
       "salary  1.000000  0.139823\n",
       "mba_p   0.139823  1.000000"
      ]
     },
     "execution_count": 48,
     "metadata": {},
     "output_type": "execute_result"
    }
   ],
   "source": [
    "dataset[[\"salary\",\"mba_p\"]].corr()# here we r analysing 2 data so its bivariate analysis and we hv to find correlation of the 2."
   ]
  },
  {
   "cell_type": "code",
   "execution_count": 49,
   "id": "266972c7",
   "metadata": {},
   "outputs": [],
   "source": [
    "#the relation btw salary and mba_p is correlation btw them, which is 0.139823 and which means its less than 0.54 so almost \n",
    "#nearly no significant correlatio as the low degree positive correlation value should be approx 0.54"
   ]
  },
  {
   "cell_type": "markdown",
   "id": "91c723e3",
   "metadata": {},
   "source": [
    "# 5. Which specialization is getting minimum salary?"
   ]
  },
  {
   "cell_type": "code",
   "execution_count": 60,
   "id": "1e68e9b8",
   "metadata": {},
   "outputs": [
    {
     "data": {
      "text/plain": [
       "150842.1052631579"
      ]
     },
     "execution_count": 60,
     "metadata": {},
     "output_type": "execute_result"
    }
   ],
   "source": [
    "#here also we r analysing 2 columns so it falls under bivariate analysis.\n",
    "dataset.groupby(\"specialisation\")[\"salary\"].mean().min()\n",
    "\n",
    "# to find min salary first we group the dataset by specialisation cos groupby can only be used with categoricaldata and \n",
    "#then we find mean () of salaries of both specialisation,cos without mean it will return 0 cos of null values turned to 0.\n",
    "#then we find min() out of these which returns the least slary but if we use idxmin() it gives the index name with min. slary also.\n"
   ]
  },
  {
   "cell_type": "code",
   "execution_count": 61,
   "id": "048a696f",
   "metadata": {},
   "outputs": [
    {
     "data": {
      "text/plain": [
       "'Mkt&HR'"
      ]
     },
     "execution_count": 61,
     "metadata": {},
     "output_type": "execute_result"
    }
   ],
   "source": [
    "dataset.groupby(\"specialisation\")[\"salary\"].mean().idxmin()"
   ]
  },
  {
   "cell_type": "markdown",
   "id": "c245b615",
   "metadata": {},
   "source": [
    "# 6. How many of them getting above 500000 salary?"
   ]
  },
  {
   "cell_type": "code",
   "execution_count": 69,
   "id": "fafaa3a6",
   "metadata": {},
   "outputs": [],
   "source": [
    "salary=[]\n",
    "for i in dataset[\"salary\"]:\n",
    "    if i>500000:\n",
    "        salary.append(i)\n",
    " # here first we create a for loop to satify the condition and then a list is created\n",
    "# we then find the length of the list to see how many elements r there in the list(which is for both categorical and quantitative data)\n",
    "# to find the sum of all elements in side a list we do sum(list)\n",
    "    \n",
    "    \n",
    "    "
   ]
  },
  {
   "cell_type": "code",
   "execution_count": 76,
   "id": "11158e90",
   "metadata": {},
   "outputs": [
    {
     "data": {
      "text/plain": [
       "3"
      ]
     },
     "execution_count": 76,
     "metadata": {},
     "output_type": "execute_result"
    }
   ],
   "source": [
    "len(salary)"
   ]
  },
  {
   "cell_type": "markdown",
   "id": "a4ed9889",
   "metadata": {},
   "source": [
    "# 7. Test the Analysis of Variance between etest_p and mba_p at signifance\n",
    "# level 5%.(Make decision using Hypothesis Testing)"
   ]
  },
  {
   "cell_type": "code",
   "execution_count": 79,
   "id": "e4bf2efb",
   "metadata": {},
   "outputs": [],
   "source": [
    "# now this also comes under bivariate analysis as we r comparing 2 columns. \n",
    "# to check ANOVA btw etest_p and mba_p we use 1 way classification cos we need to analyse for 2 categories\n",
    "#y we r using 1 way classification is because we r findinding the variance of etest_ p at different mba_p which is a categorical data."
   ]
  },
  {
   "cell_type": "code",
   "execution_count": 82,
   "id": "48c3e166",
   "metadata": {},
   "outputs": [
    {
     "data": {
      "text/plain": [
       "F_onewayResult(statistic=98.64487057324706, pvalue=4.672547689133573e-21)"
      ]
     },
     "execution_count": 82,
     "metadata": {},
     "output_type": "execute_result"
    }
   ],
   "source": [
    "import scipy.stats as stats  #here we r importing stats module from scipy \n",
    "stats.f_oneway(dataset[\"etest_p\"],dataset[\"mba_p\"]) # here we calling f_oneway function from stats to analyse the variance\n",
    "#between the etest_p column and mba_p from dataset.\n",
    "# this has given us the t value and the p value \n",
    "\n",
    "#p value = 4.6 which is > 0.05 so we accept null hypothesis cos thesres no significant variance btw them.\n",
    "\n"
   ]
  },
  {
   "cell_type": "markdown",
   "id": "8fbda93f",
   "metadata": {},
   "source": [
    "# we dont do the above method"
   ]
  },
  {
   "cell_type": "code",
   "execution_count": null,
   "id": "47b0ea69",
   "metadata": {},
   "outputs": [],
   "source": [
    "# for ANOVA and ttest to find similarities or variance the main column or the category should be categorical data and the other \n",
    "#should be quantitative. eg: if we want to find variance btw salary and specialisation. in our dataframe we hv 2 specialisation a\n",
    "#and we hv to analyse how salary varies with each specialisation.\n",
    "\n",
    "\n",
    "# for hypothesis testing is applicable to ANOVA,ttest and correlation(where u can find relation even btw 2 quantitative datas.)"
   ]
  },
  {
   "cell_type": "code",
   "execution_count": 84,
   "id": "93bdd6f3",
   "metadata": {},
   "outputs": [],
   "source": [
    "median_val=dataset[\"mba_p\"].median() \n",
    "\n",
    "#so we find median cos mean gives results based on outliers ,mode gives the most commonly occuring value and not a actual split, \n",
    "\n",
    "#so median is the best as it gives the middle value or the midpoint."
   ]
  },
  {
   "cell_type": "code",
   "execution_count": 89,
   "id": "787cc7a5",
   "metadata": {},
   "outputs": [],
   "source": [
    "low_mba=dataset[dataset[\"mba_p\"]<=median_val][\"etest_p\"]\n",
    "# here we r categorising mba_p to low and high based on the median value"
   ]
  },
  {
   "cell_type": "code",
   "execution_count": 90,
   "id": "882edbac",
   "metadata": {},
   "outputs": [],
   "source": [
    "high_mba=dataset[dataset[\"mba_p\"]>median_val][\"etest_p\"]"
   ]
  },
  {
   "cell_type": "code",
   "execution_count": 92,
   "id": "489322d7",
   "metadata": {},
   "outputs": [
    {
     "data": {
      "text/plain": [
       "Ttest_indResult(statistic=-2.837334437471584, pvalue=0.004988540596357367)"
      ]
     },
     "execution_count": 92,
     "metadata": {},
     "output_type": "execute_result"
    }
   ],
   "source": [
    "from scipy.stats import ttest_ind# we r importing ttest_ind from scipy.stats.\n",
    "\n",
    "#we r using independent ttest cos we r analysing the similarities btw etest_p and 2 different gps of mba_p\n",
    "\n",
    "ttest_ind(low_mba,high_mba)"
   ]
  },
  {
   "cell_type": "code",
   "execution_count": null,
   "id": "81ed1844",
   "metadata": {},
   "outputs": [],
   "source": [
    "# here p value is 0.004988540596357367which is less than 0.05 so we accept null hypothesis."
   ]
  },
  {
   "cell_type": "markdown",
   "id": "dbd01987",
   "metadata": {},
   "source": [
    "# 8. Test the similarity between the degree_t(Sci&Tech) and specialisation(Mkt&HR) with respect to salary at significance level of 5%.(Make\n",
    "# decision using Hypothesis Testing)\n"
   ]
  },
  {
   "cell_type": "code",
   "execution_count": 94,
   "id": "111a56c9",
   "metadata": {},
   "outputs": [],
   "source": [
    "# since we have to find similarities we use ttest \n",
    "\n",
    "# we have to find similarity btw degree_t(Sci&Tech) and specialisation(Mkt&HR) wrt salary which r 2 different groups \n",
    "#so we use independent Ttest."
   ]
  },
  {
   "cell_type": "code",
   "execution_count": 95,
   "id": "cfaa3418",
   "metadata": {},
   "outputs": [
    {
     "data": {
      "text/plain": [
       "Comm&Mgmt    145\n",
       "Sci&Tech      59\n",
       "Others        11\n",
       "Name: degree_t, dtype: int64"
      ]
     },
     "execution_count": 95,
     "metadata": {},
     "output_type": "execute_result"
    }
   ],
   "source": [
    "dataset[\"degree_t\"].value_counts() # we do this first as to get the unique vlue names to prevent error."
   ]
  },
  {
   "cell_type": "code",
   "execution_count": 101,
   "id": "e101d3ad",
   "metadata": {},
   "outputs": [],
   "source": [
    "from scipy.stats import ttest_ind as t # ttest_ind imported and given a short form to make it easier.\n",
    "gp1=dataset[dataset[\"degree_t\"]==\"Sci&Tech\"][\"salary\"]"
   ]
  },
  {
   "cell_type": "code",
   "execution_count": 102,
   "id": "73f6da14",
   "metadata": {},
   "outputs": [
    {
     "data": {
      "text/plain": [
       "Mkt&Fin    120\n",
       "Mkt&HR      95\n",
       "Name: specialisation, dtype: int64"
      ]
     },
     "execution_count": 102,
     "metadata": {},
     "output_type": "execute_result"
    }
   ],
   "source": [
    "dataset[\"specialisation\"].value_counts()"
   ]
  },
  {
   "cell_type": "code",
   "execution_count": 103,
   "id": "01ab70bc",
   "metadata": {},
   "outputs": [],
   "source": [
    "gp2=dataset[dataset[\"specialisation\"]==\"Mkt&HR\"][\"salary\"]"
   ]
  },
  {
   "cell_type": "code",
   "execution_count": 104,
   "id": "121b55f2",
   "metadata": {},
   "outputs": [
    {
     "data": {
      "text/plain": [
       "Ttest_indResult(statistic=2.692041243555374, pvalue=0.007897969943471179)"
      ]
     },
     "execution_count": 104,
     "metadata": {},
     "output_type": "execute_result"
    }
   ],
   "source": [
    "t(gp1,gp2)"
   ]
  },
  {
   "cell_type": "code",
   "execution_count": 105,
   "id": "2ec397b7",
   "metadata": {},
   "outputs": [],
   "source": [
    "# here p value is .007 which is very much less than 0.05 so we accept null hypothesis and there is significant variance in \n",
    "# salaries btw Sci&Tech and Mkt&HR."
   ]
  },
  {
   "cell_type": "markdown",
   "id": "39e22987",
   "metadata": {},
   "source": [
    "# 9. Convert the normal distribution to standard normal distribution for salary column\n"
   ]
  },
  {
   "cell_type": "code",
   "execution_count": null,
   "id": "1b880d9f",
   "metadata": {},
   "outputs": [],
   "source": [
    "#if our data is normal we already have a normal distribution which can be converted to standard distribution by calculating zscore."
   ]
  },
  {
   "cell_type": "code",
   "execution_count": 142,
   "id": "771350d1",
   "metadata": {},
   "outputs": [],
   "source": [
    "def standrd_norm_dist(column_data):\n",
    "    mean=column_data.mean()\n",
    "    std=column_data.std()\n",
    "    values=[value for value in column_data]\n",
    "   \n",
    "    z=[((value-mean)/std) for value in values]# this gives the value which explains how much a salary in the salary column is \n",
    "    # far away from the mean, for each salary in the particular column.\n",
    "    \n",
    "    z_mean=sum(z)/len(z)# we need this to find the mean of all the z_score for each salary in the column.\n",
    "    \n",
    "   \n",
    "    \n",
    "    return z_mean\n",
    "    "
   ]
  },
  {
   "cell_type": "code",
   "execution_count": 143,
   "id": "78b3e076",
   "metadata": {},
   "outputs": [],
   "source": [
    "std_sal=standrd_norm_dist(dataset[\"salary\"])\n",
    "# here the mean of z_score is almost 0 which mean the salary is standardised "
   ]
  },
  {
   "cell_type": "code",
   "execution_count": 144,
   "id": "b5b08db6",
   "metadata": {},
   "outputs": [
    {
     "data": {
      "text/plain": [
       "-7.126082669687051e-17"
      ]
     },
     "execution_count": 144,
     "metadata": {},
     "output_type": "execute_result"
    }
   ],
   "source": [
    "std_sal"
   ]
  },
  {
   "cell_type": "code",
   "execution_count": 145,
   "id": "f2834ab7",
   "metadata": {},
   "outputs": [],
   "source": [
    "stdrd_sal=(dataset[\"salary\"]-dataset[\"salary\"].mean())/dataset[\"salary\"].std()"
   ]
  },
  {
   "cell_type": "code",
   "execution_count": 146,
   "id": "23203517",
   "metadata": {},
   "outputs": [
    {
     "data": {
      "text/plain": [
       "0.9999999999999999"
      ]
     },
     "execution_count": 146,
     "metadata": {},
     "output_type": "execute_result"
    }
   ],
   "source": [
    "stdrd_sal.std()# here the std= nearly 1 so dataset[\"salary\"] is standardised."
   ]
  },
  {
   "cell_type": "markdown",
   "id": "7ec76d2d",
   "metadata": {},
   "source": [
    "# 10. What is the probability Density Function of the salary range from\n",
    "# 700000 to 900000?"
   ]
  },
  {
   "cell_type": "code",
   "execution_count": 152,
   "id": "c471c505",
   "metadata": {},
   "outputs": [
    {
     "name": "stdout",
     "output_type": "stream",
     "text": [
      "the area between (700000,900000):0.0005973310593974868\n"
     ]
    }
   ],
   "source": [
    "from scipy.stats import norm #import norm fro scipy.stats for findinding the normal distribution of dataset[salary] only if \n",
    "#the data follows a normal distribution.\n",
    "\n",
    "    \n",
    "mean=dataset[\"salary\"].mean()# find the mean of dataset \n",
    "std=dataset[\"salary\"].std()\n",
    "dist=norm(mean,std)# it creates the normal distribution using mean and std\n",
    "values=[value for value in range(700000,900000)]\n",
    "pd=[dist.pdf(value) for value in values]# to find the pdf of each salary value btw 700000 and 900000\n",
    "prob=sum(pd)# this gives the area btw the 2 points\n",
    "print(\"the area between ({},{}):{}\".format(700000,900000,prob))"
   ]
  },
  {
   "cell_type": "code",
   "execution_count": 154,
   "id": "c40acab4",
   "metadata": {},
   "outputs": [],
   "source": [
    "# but to find the pdf we hv to draw a graph\n",
    "import seaborn as sns\n",
    "from matplotlib import pyplot as plt"
   ]
  },
  {
   "cell_type": "code",
   "execution_count": 162,
   "id": "fc3336a9",
   "metadata": {},
   "outputs": [
    {
     "name": "stderr",
     "output_type": "stream",
     "text": [
      "C:\\Users\\nimmy\\anaconda3\\envs\\aiml\\lib\\site-packages\\ipykernel_launcher.py:1: UserWarning: \n",
      "\n",
      "`distplot` is a deprecated function and will be removed in seaborn v0.14.0.\n",
      "\n",
      "Please adapt your code to use either `displot` (a figure-level function with\n",
      "similar flexibility) or `histplot` (an axes-level function for histograms).\n",
      "\n",
      "For a guide to updating your code to use the new functions, please see\n",
      "https://gist.github.com/mwaskom/de44147ed2974457ad6372750bbe5751\n",
      "\n",
      "  \"\"\"Entry point for launching an IPython kernel.\n"
     ]
    },
    {
     "data": {
      "text/plain": [
       "<matplotlib.lines.Line2D at 0x19db03bf278>"
      ]
     },
     "execution_count": 162,
     "metadata": {},
     "output_type": "execute_result"
    },
    {
     "data": {
      "image/png": "[encoded data removed]",
      "text/plain": [
       "<Figure size 640x480 with 1 Axes>"
      ]
     },
     "metadata": {},
     "output_type": "display_data"
    }
   ],
   "source": [
    "sns.distplot(dataset[\"salary\"],kde={\"color\":\"blue\"},color=\"green\")\n",
    "plt.axvline(x=dataset[\"salary\"].mean(),color=\"red\",label=\"mean\")\n",
    "plt.axvline(x=700000,color=\"red\",label=\"strt_range\")\n",
    "plt.axvline(x=900000,color=\"red\",label=\"end_range\")"
   ]
  },
  {
   "cell_type": "code",
   "execution_count": 163,
   "id": "e2d24efe",
   "metadata": {},
   "outputs": [],
   "source": [
    "# here we can see pddf at 700000 is higher as it has more salary values along the same range when compared to 900000."
   ]
  },
  {
   "cell_type": "markdown",
   "id": "703d8c67",
   "metadata": {},
   "source": [
    "# 11. Test the similarity between the degree_t(Sci&Tech)with respect to\n",
    "# etest_p and mba_p at significance level of 5%.(Make decision using Hypothesis Testing)"
   ]
  },
  {
   "cell_type": "code",
   "execution_count": 164,
   "id": "baf2e755",
   "metadata": {},
   "outputs": [
    {
     "data": {
      "text/plain": [
       "Comm&Mgmt    145\n",
       "Sci&Tech      59\n",
       "Others        11\n",
       "Name: degree_t, dtype: int64"
      ]
     },
     "execution_count": 164,
     "metadata": {},
     "output_type": "execute_result"
    }
   ],
   "source": [
    "# to find the similarity means we have to find t test\n",
    "dataset[\"degree_t\"].value_counts()"
   ]
  },
  {
   "cell_type": "code",
   "execution_count": 175,
   "id": "6b0853f5",
   "metadata": {},
   "outputs": [],
   "source": [
    "from scipy.stats import ttest_ind as t\n",
    "# here we r doing indipendent ttest because we r finding similarities btw etest and mba_p in Sci&Tech.\n",
    "gp1=dataset[dataset[\"degree_t\"]==\"Sci&Tech\"][\"etest_p\"]"
   ]
  },
  {
   "cell_type": "code",
   "execution_count": 174,
   "id": "1dcc07c2",
   "metadata": {},
   "outputs": [],
   "source": [
    "gp2=dataset[dataset[\"degree_t\"]==\"Sci&Tech\"][\"mba_p\"]"
   ]
  },
  {
   "cell_type": "code",
   "execution_count": 178,
   "id": "b5dda49c",
   "metadata": {},
   "outputs": [
    {
     "data": {
      "text/plain": [
       "Ttest_indResult(statistic=4.532000225151251, pvalue=1.4289217003775636e-05)"
      ]
     },
     "execution_count": 178,
     "metadata": {},
     "output_type": "execute_result"
    }
   ],
   "source": [
    "t(gp1,gp2)"
   ]
  },
  {
   "cell_type": "code",
   "execution_count": 179,
   "id": "5ac8b908",
   "metadata": {},
   "outputs": [],
   "source": [
    "# her the pvalue is pvalue=1.4289217003775636e-05 is less than .05 so there significant difference btw gp1 and gp2\n"
   ]
  },
  {
   "cell_type": "markdown",
   "id": "b51dde33",
   "metadata": {},
   "source": [
    "# 12. Which parameter is highly correlated with salary?"
   ]
  },
  {
   "cell_type": "code",
   "execution_count": 180,
   "id": "b27c084b",
   "metadata": {},
   "outputs": [
    {
     "data": {
      "text/html": [
       "<div>\n",
       "<style scoped>\n",
       "    .dataframe tbody tr th:only-of-type {\n",
       "        vertical-align: middle;\n",
       "    }\n",
       "\n",
       "    .dataframe tbody tr th {\n",
       "        vertical-align: top;\n",
       "    }\n",
       "\n",
       "    .dataframe thead th {\n",
       "        text-align: right;\n",
       "    }\n",
       "</style>\n",
       "<table border=\"1\" class=\"dataframe\">\n",
       "  <thead>\n",
       "    <tr style=\"text-align: right;\">\n",
       "      <th></th>\n",
       "      <th>sl_no</th>\n",
       "      <th>ssc_p</th>\n",
       "      <th>hsc_p</th>\n",
       "      <th>degree_p</th>\n",
       "      <th>etest_p</th>\n",
       "      <th>mba_p</th>\n",
       "      <th>salary</th>\n",
       "    </tr>\n",
       "  </thead>\n",
       "  <tbody>\n",
       "    <tr>\n",
       "      <th>sl_no</th>\n",
       "      <td>1.000000</td>\n",
       "      <td>-0.078155</td>\n",
       "      <td>-0.085711</td>\n",
       "      <td>-0.088281</td>\n",
       "      <td>0.063636</td>\n",
       "      <td>0.022327</td>\n",
       "      <td>0.002543</td>\n",
       "    </tr>\n",
       "    <tr>\n",
       "      <th>ssc_p</th>\n",
       "      <td>-0.078155</td>\n",
       "      <td>1.000000</td>\n",
       "      <td>0.511472</td>\n",
       "      <td>0.538404</td>\n",
       "      <td>0.261993</td>\n",
       "      <td>0.388478</td>\n",
       "      <td>0.538090</td>\n",
       "    </tr>\n",
       "    <tr>\n",
       "      <th>hsc_p</th>\n",
       "      <td>-0.085711</td>\n",
       "      <td>0.511472</td>\n",
       "      <td>1.000000</td>\n",
       "      <td>0.434206</td>\n",
       "      <td>0.245113</td>\n",
       "      <td>0.354823</td>\n",
       "      <td>0.452569</td>\n",
       "    </tr>\n",
       "    <tr>\n",
       "      <th>degree_p</th>\n",
       "      <td>-0.088281</td>\n",
       "      <td>0.538404</td>\n",
       "      <td>0.434206</td>\n",
       "      <td>1.000000</td>\n",
       "      <td>0.224470</td>\n",
       "      <td>0.402364</td>\n",
       "      <td>0.408371</td>\n",
       "    </tr>\n",
       "    <tr>\n",
       "      <th>etest_p</th>\n",
       "      <td>0.063636</td>\n",
       "      <td>0.261993</td>\n",
       "      <td>0.245113</td>\n",
       "      <td>0.224470</td>\n",
       "      <td>1.000000</td>\n",
       "      <td>0.218055</td>\n",
       "      <td>0.186988</td>\n",
       "    </tr>\n",
       "    <tr>\n",
       "      <th>mba_p</th>\n",
       "      <td>0.022327</td>\n",
       "      <td>0.388478</td>\n",
       "      <td>0.354823</td>\n",
       "      <td>0.402364</td>\n",
       "      <td>0.218055</td>\n",
       "      <td>1.000000</td>\n",
       "      <td>0.139823</td>\n",
       "    </tr>\n",
       "    <tr>\n",
       "      <th>salary</th>\n",
       "      <td>0.002543</td>\n",
       "      <td>0.538090</td>\n",
       "      <td>0.452569</td>\n",
       "      <td>0.408371</td>\n",
       "      <td>0.186988</td>\n",
       "      <td>0.139823</td>\n",
       "      <td>1.000000</td>\n",
       "    </tr>\n",
       "  </tbody>\n",
       "</table>\n",
       "</div>"
      ],
      "text/plain": [
       "             sl_no     ssc_p     hsc_p  degree_p   etest_p     mba_p    salary\n",
       "sl_no     1.000000 -0.078155 -0.085711 -0.088281  0.063636  0.022327  0.002543\n",
       "ssc_p    -0.078155  1.000000  0.511472  0.538404  0.261993  0.388478  0.538090\n",
       "hsc_p    -0.085711  0.511472  1.000000  0.434206  0.245113  0.354823  0.452569\n",
       "degree_p -0.088281  0.538404  0.434206  1.000000  0.224470  0.402364  0.408371\n",
       "etest_p   0.063636  0.261993  0.245113  0.224470  1.000000  0.218055  0.186988\n",
       "mba_p     0.022327  0.388478  0.354823  0.402364  0.218055  1.000000  0.139823\n",
       "salary    0.002543  0.538090  0.452569  0.408371  0.186988  0.139823  1.000000"
      ]
     },
     "execution_count": 180,
     "metadata": {},
     "output_type": "execute_result"
    }
   ],
   "source": [
    "dataset.corr() # gives the correlation btw quantitative data"
   ]
  },
  {
   "cell_type": "code",
   "execution_count": 182,
   "id": "66bb9447",
   "metadata": {},
   "outputs": [],
   "source": [
    "sal_cor=dataset.corr()[\"salary\"]# gives correlation of quantitative columns with salary."
   ]
  },
  {
   "cell_type": "code",
   "execution_count": 186,
   "id": "99793703",
   "metadata": {},
   "outputs": [
    {
     "data": {
      "text/plain": [
       "sl_no       0.002543\n",
       "ssc_p       0.538090\n",
       "hsc_p       0.452569\n",
       "degree_p    0.408371\n",
       "etest_p     0.186988\n",
       "mba_p       0.139823\n",
       "salary      1.000000\n",
       "Name: salary, dtype: float64"
      ]
     },
     "execution_count": 186,
     "metadata": {},
     "output_type": "execute_result"
    }
   ],
   "source": [
    "sal_cor # so from here its clearly visivle salary is highly correlated with itself cos its the same feature. \n",
    "#after that it is ssc_p  0.538090"
   ]
  },
  {
   "cell_type": "code",
   "execution_count": 187,
   "id": "c5975920",
   "metadata": {},
   "outputs": [
    {
     "data": {
      "text/plain": [
       "'salary'"
      ]
     },
     "execution_count": 187,
     "metadata": {},
     "output_type": "execute_result"
    }
   ],
   "source": [
    "sal_cor.idxmax()"
   ]
  },
  {
   "cell_type": "markdown",
   "id": "18824b49",
   "metadata": {},
   "source": [
    "# 13.  plot any useful graph and explain it."
   ]
  },
  {
   "cell_type": "code",
   "execution_count": 188,
   "id": "497e496b",
   "metadata": {},
   "outputs": [],
   "source": [
    "# standard normal distribution graph of dataset[\"hsc_p\"]"
   ]
  },
  {
   "cell_type": "code",
   "execution_count": 198,
   "id": "ab435167",
   "metadata": {},
   "outputs": [],
   "source": [
    "def standrd_norm_dist(column_data):\n",
    "    mean=column_data.mean()\n",
    "    std=column_data.std()\n",
    "    values=[value for value in column_data]\n",
    "   \n",
    "    z=[((value-mean)/std) for value in values]# this gives the value which explains how much a hsc_p in the hsc_p column is \n",
    "    # far away from the mean, for each hsc_p in the particular column.\n",
    "    \n",
    "    z_mean=sum(z)/len(z)# we need this to find the mean of all the z_score for each hsc_p in the column.\n",
    "    import seaborn as sns #this helps in giving us the bell curve and histogram when the data is normal\n",
    "    from matplotlib import pyplot as plt# this helps in labeling drawing vertical lines on the curve\n",
    "    sns.distplot(z,kde=True,kde_kws={\"color\":\"blue\"},color=\"green\")# this gives the bell curve as blue and histogram as green.\n",
    "    plt.title(\"standard normal distribution\")\n",
    "    plt.axvline(x=z_mean,color=\"red\",label=\"mean\") #this marks the mean, where z_mean is the standardised mean.\n",
    "   \n",
    "    \n",
    "    return z_mean\n",
    "    "
   ]
  },
  {
   "cell_type": "code",
   "execution_count": 199,
   "id": "7da9540b",
   "metadata": {},
   "outputs": [
    {
     "name": "stderr",
     "output_type": "stream",
     "text": [
      "C:\\Users\\nimmy\\anaconda3\\envs\\aiml\\lib\\site-packages\\ipykernel_launcher.py:12: UserWarning: \n",
      "\n",
      "`distplot` is a deprecated function and will be removed in seaborn v0.14.0.\n",
      "\n",
      "Please adapt your code to use either `displot` (a figure-level function with\n",
      "similar flexibility) or `histplot` (an axes-level function for histograms).\n",
      "\n",
      "For a guide to updating your code to use the new functions, please see\n",
      "https://gist.github.com/mwaskom/de44147ed2974457ad6372750bbe5751\n",
      "\n",
      "  if sys.path[0] == \"\":\n"
     ]
    },
    {
     "data": {
      "text/plain": [
       "-9.320709578829803e-16"
      ]
     },
     "execution_count": 199,
     "metadata": {},
     "output_type": "execute_result"
    },
    {
     "data": {
      "image/png": "[encoded data removed]",
      "text/plain": [
       "<Figure size 640x480 with 1 Axes>"
      ]
     },
     "metadata": {},
     "output_type": "display_data"
    }
   ],
   "source": [
    "standrd_norm_dist(dataset[\"hsc_p\"])"
   ]
  },
  {
   "cell_type": "code",
   "execution_count": 203,
   "id": "af4b5991",
   "metadata": {},
   "outputs": [],
   "source": [
    "# to calculate the standardised standard deviation:\n",
    "# first we calculate strdsd data :\n",
    " \n",
    "strdsd_dataset=(dataset[\"hsc_p\"]-dataset[\"hsc_p\"].mean())/dataset[\"hsc_p\"].std()"
   ]
  },
  {
   "cell_type": "code",
   "execution_count": 204,
   "id": "fa82aed6",
   "metadata": {},
   "outputs": [
    {
     "data": {
      "text/plain": [
       "1.0"
      ]
     },
     "execution_count": 204,
     "metadata": {},
     "output_type": "execute_result"
    }
   ],
   "source": [
    "strdsd_dataset.std()"
   ]
  },
  {
   "cell_type": "code",
   "execution_count": null,
   "id": "5ba8afdb",
   "metadata": {},
   "outputs": [],
   "source": [
    "# which is perfectly = 1 so for a normal distribution to be standard normal distribution the criteria should be mean=0 std=1."
   ]
  }
 ],
 "metadata": {
  "kernelspec": {
   "display_name": "Python 3 (ipykernel)",
   "language": "python",
   "name": "python3"
  },
  "language_info": {
   "codemirror_mode": {
    "name": "ipython",
    "version": 3
   },
   "file_extension": ".py",
   "mimetype": "text/x-python",
   "name": "python",
   "nbconvert_exporter": "python",
   "pygments_lexer": "ipython3",
   "version": "3.7.1"
  }
 },
 "nbformat": 4,
 "nbformat_minor": 5
}
