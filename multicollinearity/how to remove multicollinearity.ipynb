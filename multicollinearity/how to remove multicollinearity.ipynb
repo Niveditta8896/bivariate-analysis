{
 "cells": [
  {
   "cell_type": "code",
   "execution_count": 1,
   "id": "73f1633f",
   "metadata": {},
   "outputs": [],
   "source": [
    "import pandas as pd\n",
    "import numpy as np\n"
   ]
  },
  {
   "cell_type": "code",
   "execution_count": 2,
   "id": "47f846d5",
   "metadata": {},
   "outputs": [],
   "source": [
    "dataset=pd.read_csv(\"preplacement.csv\")"
   ]
  },
  {
   "cell_type": "code",
   "execution_count": 3,
   "id": "886b8b65",
   "metadata": {},
   "outputs": [],
   "source": [
    "dataset.drop(columns=\"sl_no\",inplace =True)"
   ]
  },
  {
   "cell_type": "code",
   "execution_count": 4,
   "id": "26291a05",
   "metadata": {},
   "outputs": [],
   "source": [
    "\n",
    "def quan_qual(dataset):\n",
    "    quan=[]\n",
    "    qual=[]\n",
    "    for columnname in dataset:\n",
    "        if dataset[columnname].dtype==\"O\":\n",
    "             qual.append(columnname)\n",
    "        else :\n",
    "            quan.append(columnname)\n",
    "    return quan,qual "
   ]
  },
  {
   "cell_type": "code",
   "execution_count": 5,
   "id": "924e58ae",
   "metadata": {},
   "outputs": [],
   "source": [
    "quan,qual=quan_qual(dataset)"
   ]
  },
  {
   "cell_type": "code",
   "execution_count": 6,
   "id": "2c12c872",
   "metadata": {},
   "outputs": [
    {
     "data": {
      "text/plain": [
       "['ssc_p', 'hsc_p', 'degree_p', 'etest_p', 'mba_p', 'salary']"
      ]
     },
     "execution_count": 6,
     "metadata": {},
     "output_type": "execute_result"
    }
   ],
   "source": [
    "quan"
   ]
  },
  {
   "cell_type": "code",
   "execution_count": 7,
   "id": "eeaaf98d",
   "metadata": {},
   "outputs": [],
   "source": [
    "def vif(dataset):\n",
    "    import numpy as np\n",
    "    from statsmodels.stats.outliers_influence import variance_inflation_factor\n",
    "    \n",
    "    dataset=dataset[quan]\n",
    "    values=dataset.values\n",
    "    vif=[variance_inflation_factor(values,i)for i in range(values.shape[1])]\n",
    "    vif_table=pd.DataFrame({\"vif_values\":vif,\"variables\":dataset.columns})\n",
    "    return vif_table"
   ]
  },
  {
   "cell_type": "code",
   "execution_count": 8,
   "id": "bd9fbf50",
   "metadata": {},
   "outputs": [
    {
     "data": {
      "text/html": [
       "<div>\n",
       "<style scoped>\n",
       "    .dataframe tbody tr th:only-of-type {\n",
       "        vertical-align: middle;\n",
       "    }\n",
       "\n",
       "    .dataframe tbody tr th {\n",
       "        vertical-align: top;\n",
       "    }\n",
       "\n",
       "    .dataframe thead th {\n",
       "        text-align: right;\n",
       "    }\n",
       "</style>\n",
       "<table border=\"1\" class=\"dataframe\">\n",
       "  <thead>\n",
       "    <tr style=\"text-align: right;\">\n",
       "      <th></th>\n",
       "      <th>vif_values</th>\n",
       "      <th>variables</th>\n",
       "    </tr>\n",
       "  </thead>\n",
       "  <tbody>\n",
       "    <tr>\n",
       "      <th>0</th>\n",
       "      <td>76.496603</td>\n",
       "      <td>ssc_p</td>\n",
       "    </tr>\n",
       "    <tr>\n",
       "      <th>1</th>\n",
       "      <td>58.972066</td>\n",
       "      <td>hsc_p</td>\n",
       "    </tr>\n",
       "    <tr>\n",
       "      <th>2</th>\n",
       "      <td>113.299298</td>\n",
       "      <td>degree_p</td>\n",
       "    </tr>\n",
       "    <tr>\n",
       "      <th>3</th>\n",
       "      <td>32.679659</td>\n",
       "      <td>etest_p</td>\n",
       "    </tr>\n",
       "    <tr>\n",
       "      <th>4</th>\n",
       "      <td>114.025972</td>\n",
       "      <td>mba_p</td>\n",
       "    </tr>\n",
       "    <tr>\n",
       "      <th>5</th>\n",
       "      <td>3.931112</td>\n",
       "      <td>salary</td>\n",
       "    </tr>\n",
       "  </tbody>\n",
       "</table>\n",
       "</div>"
      ],
      "text/plain": [
       "   vif_values variables\n",
       "0   76.496603     ssc_p\n",
       "1   58.972066     hsc_p\n",
       "2  113.299298  degree_p\n",
       "3   32.679659   etest_p\n",
       "4  114.025972     mba_p\n",
       "5    3.931112    salary"
      ]
     },
     "execution_count": 8,
     "metadata": {},
     "output_type": "execute_result"
    }
   ],
   "source": [
    "vif(dataset)"
   ]
  },
  {
   "cell_type": "markdown",
   "id": "9a95859f",
   "metadata": {},
   "source": [
    "# 1. to drop the columns with high multicollinearity repeat until all vif is less \n",
    "\n",
    "# than 10"
   ]
  },
  {
   "cell_type": "code",
   "execution_count": 9,
   "id": "a49dec3d",
   "metadata": {},
   "outputs": [
    {
     "data": {
      "text/plain": [
       "Index(['gender', 'ssc_p', 'ssc_b', 'hsc_p', 'hsc_b', 'hsc_s', 'degree_p',\n",
       "       'degree_t', 'workex', 'etest_p', 'specialisation', 'mba_p', 'status',\n",
       "       'salary'],\n",
       "      dtype='object')"
      ]
     },
     "execution_count": 9,
     "metadata": {},
     "output_type": "execute_result"
    }
   ],
   "source": [
    "dataset.columns"
   ]
  },
  {
   "cell_type": "code",
   "execution_count": 10,
   "id": "8a23b5dd",
   "metadata": {},
   "outputs": [],
   "source": [
    "dataset_drop=dataset.drop(columns=[\"degree_p\",\"ssc_p\",\"mba_p\"])"
   ]
  },
  {
   "cell_type": "code",
   "execution_count": 11,
   "id": "ad93c495",
   "metadata": {},
   "outputs": [
    {
     "data": {
      "text/html": [
       "<div>\n",
       "<style scoped>\n",
       "    .dataframe tbody tr th:only-of-type {\n",
       "        vertical-align: middle;\n",
       "    }\n",
       "\n",
       "    .dataframe tbody tr th {\n",
       "        vertical-align: top;\n",
       "    }\n",
       "\n",
       "    .dataframe thead th {\n",
       "        text-align: right;\n",
       "    }\n",
       "</style>\n",
       "<table border=\"1\" class=\"dataframe\">\n",
       "  <thead>\n",
       "    <tr style=\"text-align: right;\">\n",
       "      <th></th>\n",
       "      <th>gender</th>\n",
       "      <th>ssc_b</th>\n",
       "      <th>hsc_p</th>\n",
       "      <th>hsc_b</th>\n",
       "      <th>hsc_s</th>\n",
       "      <th>degree_t</th>\n",
       "      <th>workex</th>\n",
       "      <th>etest_p</th>\n",
       "      <th>specialisation</th>\n",
       "      <th>status</th>\n",
       "      <th>salary</th>\n",
       "    </tr>\n",
       "  </thead>\n",
       "  <tbody>\n",
       "    <tr>\n",
       "      <th>0</th>\n",
       "      <td>M</td>\n",
       "      <td>Others</td>\n",
       "      <td>91.00</td>\n",
       "      <td>Others</td>\n",
       "      <td>Commerce</td>\n",
       "      <td>Sci&amp;Tech</td>\n",
       "      <td>No</td>\n",
       "      <td>55.0</td>\n",
       "      <td>Mkt&amp;HR</td>\n",
       "      <td>Placed</td>\n",
       "      <td>270000.0</td>\n",
       "    </tr>\n",
       "    <tr>\n",
       "      <th>1</th>\n",
       "      <td>M</td>\n",
       "      <td>Central</td>\n",
       "      <td>78.33</td>\n",
       "      <td>Others</td>\n",
       "      <td>Science</td>\n",
       "      <td>Sci&amp;Tech</td>\n",
       "      <td>Yes</td>\n",
       "      <td>86.5</td>\n",
       "      <td>Mkt&amp;Fin</td>\n",
       "      <td>Placed</td>\n",
       "      <td>200000.0</td>\n",
       "    </tr>\n",
       "    <tr>\n",
       "      <th>2</th>\n",
       "      <td>M</td>\n",
       "      <td>Central</td>\n",
       "      <td>68.00</td>\n",
       "      <td>Central</td>\n",
       "      <td>Arts</td>\n",
       "      <td>Comm&amp;Mgmt</td>\n",
       "      <td>No</td>\n",
       "      <td>75.0</td>\n",
       "      <td>Mkt&amp;Fin</td>\n",
       "      <td>Placed</td>\n",
       "      <td>250000.0</td>\n",
       "    </tr>\n",
       "    <tr>\n",
       "      <th>3</th>\n",
       "      <td>M</td>\n",
       "      <td>Central</td>\n",
       "      <td>52.00</td>\n",
       "      <td>Central</td>\n",
       "      <td>Science</td>\n",
       "      <td>Sci&amp;Tech</td>\n",
       "      <td>No</td>\n",
       "      <td>66.0</td>\n",
       "      <td>Mkt&amp;HR</td>\n",
       "      <td>Not Placed</td>\n",
       "      <td>0.0</td>\n",
       "    </tr>\n",
       "    <tr>\n",
       "      <th>4</th>\n",
       "      <td>M</td>\n",
       "      <td>Central</td>\n",
       "      <td>73.60</td>\n",
       "      <td>Central</td>\n",
       "      <td>Commerce</td>\n",
       "      <td>Comm&amp;Mgmt</td>\n",
       "      <td>No</td>\n",
       "      <td>96.8</td>\n",
       "      <td>Mkt&amp;Fin</td>\n",
       "      <td>Placed</td>\n",
       "      <td>425000.0</td>\n",
       "    </tr>\n",
       "    <tr>\n",
       "      <th>...</th>\n",
       "      <td>...</td>\n",
       "      <td>...</td>\n",
       "      <td>...</td>\n",
       "      <td>...</td>\n",
       "      <td>...</td>\n",
       "      <td>...</td>\n",
       "      <td>...</td>\n",
       "      <td>...</td>\n",
       "      <td>...</td>\n",
       "      <td>...</td>\n",
       "      <td>...</td>\n",
       "    </tr>\n",
       "    <tr>\n",
       "      <th>210</th>\n",
       "      <td>M</td>\n",
       "      <td>Others</td>\n",
       "      <td>82.00</td>\n",
       "      <td>Others</td>\n",
       "      <td>Commerce</td>\n",
       "      <td>Comm&amp;Mgmt</td>\n",
       "      <td>No</td>\n",
       "      <td>91.0</td>\n",
       "      <td>Mkt&amp;Fin</td>\n",
       "      <td>Placed</td>\n",
       "      <td>400000.0</td>\n",
       "    </tr>\n",
       "    <tr>\n",
       "      <th>211</th>\n",
       "      <td>M</td>\n",
       "      <td>Others</td>\n",
       "      <td>60.00</td>\n",
       "      <td>Others</td>\n",
       "      <td>Science</td>\n",
       "      <td>Sci&amp;Tech</td>\n",
       "      <td>No</td>\n",
       "      <td>74.0</td>\n",
       "      <td>Mkt&amp;Fin</td>\n",
       "      <td>Placed</td>\n",
       "      <td>275000.0</td>\n",
       "    </tr>\n",
       "    <tr>\n",
       "      <th>212</th>\n",
       "      <td>M</td>\n",
       "      <td>Others</td>\n",
       "      <td>67.00</td>\n",
       "      <td>Others</td>\n",
       "      <td>Commerce</td>\n",
       "      <td>Comm&amp;Mgmt</td>\n",
       "      <td>Yes</td>\n",
       "      <td>59.0</td>\n",
       "      <td>Mkt&amp;Fin</td>\n",
       "      <td>Placed</td>\n",
       "      <td>295000.0</td>\n",
       "    </tr>\n",
       "    <tr>\n",
       "      <th>213</th>\n",
       "      <td>F</td>\n",
       "      <td>Others</td>\n",
       "      <td>66.00</td>\n",
       "      <td>Others</td>\n",
       "      <td>Commerce</td>\n",
       "      <td>Comm&amp;Mgmt</td>\n",
       "      <td>No</td>\n",
       "      <td>70.0</td>\n",
       "      <td>Mkt&amp;HR</td>\n",
       "      <td>Placed</td>\n",
       "      <td>204000.0</td>\n",
       "    </tr>\n",
       "    <tr>\n",
       "      <th>214</th>\n",
       "      <td>M</td>\n",
       "      <td>Central</td>\n",
       "      <td>58.00</td>\n",
       "      <td>Others</td>\n",
       "      <td>Science</td>\n",
       "      <td>Comm&amp;Mgmt</td>\n",
       "      <td>No</td>\n",
       "      <td>89.0</td>\n",
       "      <td>Mkt&amp;HR</td>\n",
       "      <td>Not Placed</td>\n",
       "      <td>0.0</td>\n",
       "    </tr>\n",
       "  </tbody>\n",
       "</table>\n",
       "<p>215 rows × 11 columns</p>\n",
       "</div>"
      ],
      "text/plain": [
       "    gender    ssc_b  hsc_p    hsc_b     hsc_s   degree_t workex  etest_p  \\\n",
       "0        M   Others  91.00   Others  Commerce   Sci&Tech     No     55.0   \n",
       "1        M  Central  78.33   Others   Science   Sci&Tech    Yes     86.5   \n",
       "2        M  Central  68.00  Central      Arts  Comm&Mgmt     No     75.0   \n",
       "3        M  Central  52.00  Central   Science   Sci&Tech     No     66.0   \n",
       "4        M  Central  73.60  Central  Commerce  Comm&Mgmt     No     96.8   \n",
       "..     ...      ...    ...      ...       ...        ...    ...      ...   \n",
       "210      M   Others  82.00   Others  Commerce  Comm&Mgmt     No     91.0   \n",
       "211      M   Others  60.00   Others   Science   Sci&Tech     No     74.0   \n",
       "212      M   Others  67.00   Others  Commerce  Comm&Mgmt    Yes     59.0   \n",
       "213      F   Others  66.00   Others  Commerce  Comm&Mgmt     No     70.0   \n",
       "214      M  Central  58.00   Others   Science  Comm&Mgmt     No     89.0   \n",
       "\n",
       "    specialisation      status    salary  \n",
       "0           Mkt&HR      Placed  270000.0  \n",
       "1          Mkt&Fin      Placed  200000.0  \n",
       "2          Mkt&Fin      Placed  250000.0  \n",
       "3           Mkt&HR  Not Placed       0.0  \n",
       "4          Mkt&Fin      Placed  425000.0  \n",
       "..             ...         ...       ...  \n",
       "210        Mkt&Fin      Placed  400000.0  \n",
       "211        Mkt&Fin      Placed  275000.0  \n",
       "212        Mkt&Fin      Placed  295000.0  \n",
       "213         Mkt&HR      Placed  204000.0  \n",
       "214         Mkt&HR  Not Placed       0.0  \n",
       "\n",
       "[215 rows x 11 columns]"
      ]
     },
     "execution_count": 11,
     "metadata": {},
     "output_type": "execute_result"
    }
   ],
   "source": [
    "dataset_drop"
   ]
  },
  {
   "cell_type": "code",
   "execution_count": 12,
   "id": "339480f4",
   "metadata": {},
   "outputs": [],
   "source": [
    "quan,qual=quan_qual(dataset=dataset_drop) # always after calling quan name the variable quan qual cos the list is inside the function\n",
    "# and u need to define it outside the function"
   ]
  },
  {
   "cell_type": "code",
   "execution_count": 13,
   "id": "f83658bc",
   "metadata": {},
   "outputs": [
    {
     "data": {
      "text/plain": [
       "['hsc_p', 'etest_p', 'salary']"
      ]
     },
     "execution_count": 13,
     "metadata": {},
     "output_type": "execute_result"
    }
   ],
   "source": [
    "quan"
   ]
  },
  {
   "cell_type": "code",
   "execution_count": 14,
   "id": "91eb835c",
   "metadata": {},
   "outputs": [
    {
     "data": {
      "text/html": [
       "<div>\n",
       "<style scoped>\n",
       "    .dataframe tbody tr th:only-of-type {\n",
       "        vertical-align: middle;\n",
       "    }\n",
       "\n",
       "    .dataframe tbody tr th {\n",
       "        vertical-align: top;\n",
       "    }\n",
       "\n",
       "    .dataframe thead th {\n",
       "        text-align: right;\n",
       "    }\n",
       "</style>\n",
       "<table border=\"1\" class=\"dataframe\">\n",
       "  <thead>\n",
       "    <tr style=\"text-align: right;\">\n",
       "      <th></th>\n",
       "      <th>vif_values</th>\n",
       "      <th>variables</th>\n",
       "    </tr>\n",
       "  </thead>\n",
       "  <tbody>\n",
       "    <tr>\n",
       "      <th>0</th>\n",
       "      <td>25.937543</td>\n",
       "      <td>hsc_p</td>\n",
       "    </tr>\n",
       "    <tr>\n",
       "      <th>1</th>\n",
       "      <td>22.845092</td>\n",
       "      <td>etest_p</td>\n",
       "    </tr>\n",
       "    <tr>\n",
       "      <th>2</th>\n",
       "      <td>3.132731</td>\n",
       "      <td>salary</td>\n",
       "    </tr>\n",
       "  </tbody>\n",
       "</table>\n",
       "</div>"
      ],
      "text/plain": [
       "   vif_values variables\n",
       "0   25.937543     hsc_p\n",
       "1   22.845092   etest_p\n",
       "2    3.132731    salary"
      ]
     },
     "execution_count": 14,
     "metadata": {},
     "output_type": "execute_result"
    }
   ],
   "source": [
    "vif(dataset_drop)"
   ]
  },
  {
   "cell_type": "markdown",
   "id": "63af78fb",
   "metadata": {},
   "source": [
    "# 2. principal component analysis\n",
    "\n"
   ]
  },
  {
   "cell_type": "code",
   "execution_count": 15,
   "id": "ec911edb",
   "metadata": {},
   "outputs": [],
   "source": [
    "# first we hv to standardise our data using standard scalar\n",
    "from sklearn.preprocessing import StandardScaler"
   ]
  },
  {
   "cell_type": "code",
   "execution_count": 16,
   "id": "4d91edde",
   "metadata": {},
   "outputs": [],
   "source": [
    "x_tab=dataset[['gender', 'ssc_p', 'ssc_b', 'hsc_p', 'hsc_b', 'hsc_s', 'degree_p',\n",
    "       'degree_t', 'workex', 'etest_p', 'specialisation', 'mba_p', 'status']]"
   ]
  },
  {
   "cell_type": "code",
   "execution_count": 17,
   "id": "2f68beae",
   "metadata": {},
   "outputs": [],
   "source": [
    "x_tab=pd.get_dummies(x_tab,dtype=int,drop_first=True)"
   ]
  },
  {
   "cell_type": "code",
   "execution_count": 18,
   "id": "ccc6b807",
   "metadata": {},
   "outputs": [],
   "source": [
    "sc=StandardScaler()"
   ]
  },
  {
   "cell_type": "code",
   "execution_count": 19,
   "id": "ef0851cc",
   "metadata": {},
   "outputs": [
    {
     "data": {
      "text/plain": [
       "array([[-0.02808697,  2.2688123 , -1.14010225, ..., -0.72444647,\n",
       "         1.12390297,  0.67283185],\n",
       "       [ 1.11336869,  1.10344799,  1.51326671, ...,  1.38036423,\n",
       "        -0.88975652,  0.67283185],\n",
       "       [-0.21323793,  0.15331275, -0.32284282, ..., -0.72444647,\n",
       "        -0.88975652,  0.67283185],\n",
       "       ...,\n",
       "       [-0.02808697,  0.06133451,  0.90304633, ...,  1.38036423,\n",
       "        -0.88975652,  0.67283185],\n",
       "       [ 0.61994138, -0.03064373, -1.14010225, ..., -0.72444647,\n",
       "         1.12390297,  0.67283185],\n",
       "       [-0.49096436, -0.76646966, -1.82115177, ..., -0.72444647,\n",
       "         1.12390297, -1.48625544]])"
      ]
     },
     "execution_count": 19,
     "metadata": {},
     "output_type": "execute_result"
    }
   ],
   "source": [
    "sc.fit_transform(x_tab)"
   ]
  },
  {
   "cell_type": "code",
   "execution_count": 20,
   "id": "c37594c7",
   "metadata": {},
   "outputs": [],
   "source": [
    "from sklearn.decomposition import PCA\n"
   ]
  },
  {
   "cell_type": "code",
   "execution_count": 46,
   "id": "8f0790df",
   "metadata": {},
   "outputs": [],
   "source": [
    "pca = PCA(n_components=2)  # Choose number of principal components, we can hv upto n number where n=no.of independents in our data.\n",
    "X_pca = pca.fit_transform(x_tab) #here pca will analzse the standardised data and take 2 component or axes for that data which shows\n",
    "# maximum variance"
   ]
  },
  {
   "cell_type": "code",
   "execution_count": 30,
   "id": "f98279d8",
   "metadata": {},
   "outputs": [],
   "source": [
    "pc1,pc2=pca.explained_variance_ratio_ #this shows that axes 1 shows 50 percent varianc e with our data\n",
    "#axes 2 shows 26 percent variance and the other 12 will show only approx 14 percent variance stating they r hightly multicollinear."
   ]
  },
  {
   "cell_type": "code",
   "execution_count": 31,
   "id": "03681546",
   "metadata": {},
   "outputs": [
    {
     "data": {
      "text/plain": [
       "0.5020590684886636"
      ]
     },
     "execution_count": 31,
     "metadata": {},
     "output_type": "execute_result"
    }
   ],
   "source": [
    "pc1"
   ]
  },
  {
   "cell_type": "code",
   "execution_count": 32,
   "id": "375fe809",
   "metadata": {},
   "outputs": [
    {
     "data": {
      "text/plain": [
       "0.26161523735460934"
      ]
     },
     "execution_count": 32,
     "metadata": {},
     "output_type": "execute_result"
    }
   ],
   "source": [
    "pc2"
   ]
  },
  {
   "cell_type": "code",
   "execution_count": 26,
   "id": "b5ef54ac",
   "metadata": {},
   "outputs": [],
   "source": [
    "sum(pca.explained_variance_ratio_) "
   ]
  },
  {
   "cell_type": "code",
   "execution_count": 33,
   "id": "1ecd7224",
   "metadata": {},
   "outputs": [],
   "source": [
    "# once we get he pc1,pc2 values we see the datapoints with these variances .pc1 split among 215 datapoints and same with pc2."
   ]
  },
  {
   "cell_type": "code",
   "execution_count": 37,
   "id": "287f2eae",
   "metadata": {},
   "outputs": [],
   "source": [
    "pca_table=pd.DataFrame(X_pca,columns=[\"pc1\",\"pc2\"])"
   ]
  },
  {
   "cell_type": "code",
   "execution_count": 45,
   "id": "487ddeab",
   "metadata": {},
   "outputs": [
    {
     "data": {
      "text/html": [
       "<div>\n",
       "<style scoped>\n",
       "    .dataframe tbody tr th:only-of-type {\n",
       "        vertical-align: middle;\n",
       "    }\n",
       "\n",
       "    .dataframe tbody tr th {\n",
       "        vertical-align: top;\n",
       "    }\n",
       "\n",
       "    .dataframe thead th {\n",
       "        text-align: right;\n",
       "    }\n",
       "</style>\n",
       "<table border=\"1\" class=\"dataframe\">\n",
       "  <thead>\n",
       "    <tr style=\"text-align: right;\">\n",
       "      <th></th>\n",
       "      <th>pc1</th>\n",
       "      <th>pc2</th>\n",
       "    </tr>\n",
       "  </thead>\n",
       "  <tbody>\n",
       "    <tr>\n",
       "      <th>0</th>\n",
       "      <td>-1.257138</td>\n",
       "      <td>-21.434164</td>\n",
       "    </tr>\n",
       "    <tr>\n",
       "      <th>1</th>\n",
       "      <td>24.851332</td>\n",
       "      <td>-0.890274</td>\n",
       "    </tr>\n",
       "    <tr>\n",
       "      <th>2</th>\n",
       "      <td>-0.055865</td>\n",
       "      <td>3.431124</td>\n",
       "    </tr>\n",
       "    <tr>\n",
       "      <th>3</th>\n",
       "      <td>-21.300829</td>\n",
       "      <td>8.677422</td>\n",
       "    </tr>\n",
       "    <tr>\n",
       "      <th>4</th>\n",
       "      <td>28.986670</td>\n",
       "      <td>8.446565</td>\n",
       "    </tr>\n",
       "    <tr>\n",
       "      <th>...</th>\n",
       "      <td>...</td>\n",
       "      <td>...</td>\n",
       "    </tr>\n",
       "    <tr>\n",
       "      <th>210</th>\n",
       "      <td>31.581623</td>\n",
       "      <td>-0.115980</td>\n",
       "    </tr>\n",
       "    <tr>\n",
       "      <th>211</th>\n",
       "      <td>-6.754871</td>\n",
       "      <td>7.463212</td>\n",
       "    </tr>\n",
       "    <tr>\n",
       "      <th>212</th>\n",
       "      <td>-4.593869</td>\n",
       "      <td>-12.550031</td>\n",
       "    </tr>\n",
       "    <tr>\n",
       "      <th>213</th>\n",
       "      <td>-0.727800</td>\n",
       "      <td>-2.334848</td>\n",
       "    </tr>\n",
       "    <tr>\n",
       "      <th>214</th>\n",
       "      <td>-0.757358</td>\n",
       "      <td>21.773782</td>\n",
       "    </tr>\n",
       "  </tbody>\n",
       "</table>\n",
       "<p>215 rows × 2 columns</p>\n",
       "</div>"
      ],
      "text/plain": [
       "           pc1        pc2\n",
       "0    -1.257138 -21.434164\n",
       "1    24.851332  -0.890274\n",
       "2    -0.055865   3.431124\n",
       "3   -21.300829   8.677422\n",
       "4    28.986670   8.446565\n",
       "..         ...        ...\n",
       "210  31.581623  -0.115980\n",
       "211  -6.754871   7.463212\n",
       "212  -4.593869 -12.550031\n",
       "213  -0.727800  -2.334848\n",
       "214  -0.757358  21.773782\n",
       "\n",
       "[215 rows x 2 columns]"
      ]
     },
     "execution_count": 45,
     "metadata": {},
     "output_type": "execute_result"
    }
   ],
   "source": [
    "pca_table"
   ]
  },
  {
   "cell_type": "code",
   "execution_count": null,
   "id": "625a06df",
   "metadata": {},
   "outputs": [],
   "source": []
  }
 ],
 "metadata": {
  "kernelspec": {
   "display_name": "Python 3 (ipykernel)",
   "language": "python",
   "name": "python3"
  },
  "language_info": {
   "codemirror_mode": {
    "name": "ipython",
    "version": 3
   },
   "file_extension": ".py",
   "mimetype": "text/x-python",
   "name": "python",
   "nbconvert_exporter": "python",
   "pygments_lexer": "ipython3",
   "version": "3.7.1"
  }
 },
 "nbformat": 4,
 "nbformat_minor": 5
}
